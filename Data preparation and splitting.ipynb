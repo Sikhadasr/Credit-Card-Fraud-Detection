{
 "cells": [
  {
   "cell_type": "markdown",
   "metadata": {
    "collapsed": true
   },
   "source": [
    "It is important that credit card companies are able to recognize fraudulent credit card transactions so that customers are not charged for items that they did not purchase."
   ]
  },
  {
   "cell_type": "code",
   "execution_count": 71,
   "metadata": {
    "collapsed": true
   },
   "outputs": [],
   "source": [
    "# print all the outputs in a cell\n",
    "from IPython.core.interactiveshell import InteractiveShell\n",
    "InteractiveShell.ast_node_interactivity = \"all\"\n",
    "\n",
    "import warnings\n",
    "warnings.filterwarnings(\"ignore\")\n",
    "\n",
    "import numpy as np\n",
    "import pandas as pd\n",
    "\n",
    "import seaborn as sns\n",
    "%matplotlib inline"
   ]
  },
  {
   "cell_type": "code",
   "execution_count": 2,
   "metadata": {
    "collapsed": true
   },
   "outputs": [],
   "source": [
    "df = pd.read_csv(\"creditcard.csv\",low_memory=False)"
   ]
  },
  {
   "cell_type": "markdown",
   "metadata": {},
   "source": [
    "The datasets contains transactions made by credit cards in September 2013 by european cardholders. This dataset presents transactions that occurred in two days, where we have 492 frauds out of 284,807 transactions. The dataset is highly unbalanced, the positive class (frauds) account for 0.172% of all transactions.\n",
    "\n",
    "**Features V1, V2, ... V28** are the principal components obtained with PCA, the only features which have not been transformed with PCA are 'Time' and 'Amount'. **Feature 'Time'** contains the seconds elapsed between each transaction and the first transaction in the dataset. **The feature 'Amount'** is the transaction Amount, this feature can be used for example-dependant cost-senstive learning. **Feature 'Class'** is the response variable and it takes value 1 in case of fraud and 0 otherwise."
   ]
  },
  {
   "cell_type": "code",
   "execution_count": null,
   "metadata": {
    "collapsed": false
   },
   "outputs": [],
   "source": [
    "len(df)\n",
    "df['Time'].unique()"
   ]
  },
  {
   "cell_type": "code",
   "execution_count": null,
   "metadata": {
    "collapsed": false
   },
   "outputs": [],
   "source": [
    "df.head(50)"
   ]
  },
  {
   "cell_type": "code",
   "execution_count": 72,
   "metadata": {
    "collapsed": false
   },
   "outputs": [
    {
     "data": {
      "text/plain": [
       "<matplotlib.axes._subplots.AxesSubplot at 0x13f32850>"
      ]
     },
     "execution_count": 72,
     "metadata": {},
     "output_type": "execute_result"
    },
    {
     "data": {
      "image/png": "[encoded data removed]",
      "text/plain": [
       "<matplotlib.figure.Figure at 0x13f327b0>"
      ]
     },
     "metadata": {},
     "output_type": "display_data"
    }
   ],
   "source": [
    "sns.countplot(x = 'Class', data = df)\n"
   ]
  },
  {
   "cell_type": "markdown",
   "metadata": {},
   "source": [
    "Creating a time bin to use time as a categorical variable:"
   ]
  },
  {
   "cell_type": "code",
   "execution_count": 7,
   "metadata": {
    "collapsed": false
   },
   "outputs": [
    {
     "data": {
      "text/plain": [
       "86400"
      ]
     },
     "execution_count": 7,
     "metadata": {},
     "output_type": "execute_result"
    },
    {
     "data": {
      "text/plain": [
       "144787"
      ]
     },
     "execution_count": 7,
     "metadata": {},
     "output_type": "execute_result"
    },
    {
     "data": {
      "text/plain": [
       "140020"
      ]
     },
     "execution_count": 7,
     "metadata": {},
     "output_type": "execute_result"
    }
   ],
   "source": [
    "day = 3600 * 24\n",
    "day\n",
    "\n",
    "df['day']=(df.Time > day)+1\n",
    "\n",
    "len(df[df.day==1])\n",
    "len(df[df.day==2])"
   ]
  },
  {
   "cell_type": "code",
   "execution_count": 8,
   "metadata": {
    "collapsed": true
   },
   "outputs": [],
   "source": [
    "df['Time_day']=df.Time.apply(lambda x: x if x<=day else x-day)"
   ]
  },
  {
   "cell_type": "code",
   "execution_count": 9,
   "metadata": {
    "collapsed": true
   },
   "outputs": [],
   "source": [
    "df['Time_cluster']=pd.cut(df.Time_day,bins=24)"
   ]
  },
  {
   "cell_type": "code",
   "execution_count": 10,
   "metadata": {
    "collapsed": false
   },
   "outputs": [
    {
     "data": {
      "text/html": [
       "<div>\n",
       "<style>\n",
       "    .dataframe thead tr:only-child th {\n",
       "        text-align: right;\n",
       "    }\n",
       "\n",
       "    .dataframe thead th {\n",
       "        text-align: left;\n",
       "    }\n",
       "\n",
       "    .dataframe tbody tr th {\n",
       "        vertical-align: top;\n",
       "    }\n",
       "</style>\n",
       "<table border=\"1\" class=\"dataframe\">\n",
       "  <thead>\n",
       "    <tr style=\"text-align: right;\">\n",
       "      <th></th>\n",
       "      <th>Time</th>\n",
       "      <th>V1</th>\n",
       "      <th>V2</th>\n",
       "      <th>V3</th>\n",
       "      <th>V4</th>\n",
       "      <th>V5</th>\n",
       "      <th>V6</th>\n",
       "      <th>V7</th>\n",
       "      <th>V8</th>\n",
       "      <th>V9</th>\n",
       "      <th>...</th>\n",
       "      <th>V23</th>\n",
       "      <th>V24</th>\n",
       "      <th>V25</th>\n",
       "      <th>V26</th>\n",
       "      <th>V27</th>\n",
       "      <th>V28</th>\n",
       "      <th>Amount</th>\n",
       "      <th>Class</th>\n",
       "      <th>day</th>\n",
       "      <th>Time_day</th>\n",
       "    </tr>\n",
       "    <tr>\n",
       "      <th>Time_cluster</th>\n",
       "      <th></th>\n",
       "      <th></th>\n",
       "      <th></th>\n",
       "      <th></th>\n",
       "      <th></th>\n",
       "      <th></th>\n",
       "      <th></th>\n",
       "      <th></th>\n",
       "      <th></th>\n",
       "      <th></th>\n",
       "      <th></th>\n",
       "      <th></th>\n",
       "      <th></th>\n",
       "      <th></th>\n",
       "      <th></th>\n",
       "      <th></th>\n",
       "      <th></th>\n",
       "      <th></th>\n",
       "      <th></th>\n",
       "      <th></th>\n",
       "      <th></th>\n",
       "    </tr>\n",
       "  </thead>\n",
       "  <tbody>\n",
       "    <tr>\n",
       "      <th>(-86.4, 3600.0]</th>\n",
       "      <td>7695</td>\n",
       "      <td>7695</td>\n",
       "      <td>7695</td>\n",
       "      <td>7695</td>\n",
       "      <td>7695</td>\n",
       "      <td>7695</td>\n",
       "      <td>7695</td>\n",
       "      <td>7695</td>\n",
       "      <td>7695</td>\n",
       "      <td>7695</td>\n",
       "      <td>...</td>\n",
       "      <td>7695</td>\n",
       "      <td>7695</td>\n",
       "      <td>7695</td>\n",
       "      <td>7695</td>\n",
       "      <td>7695</td>\n",
       "      <td>7695</td>\n",
       "      <td>7695</td>\n",
       "      <td>7695</td>\n",
       "      <td>7695</td>\n",
       "      <td>7695</td>\n",
       "    </tr>\n",
       "    <tr>\n",
       "      <th>(3600.0, 7200.0]</th>\n",
       "      <td>4222</td>\n",
       "      <td>4222</td>\n",
       "      <td>4222</td>\n",
       "      <td>4222</td>\n",
       "      <td>4222</td>\n",
       "      <td>4222</td>\n",
       "      <td>4222</td>\n",
       "      <td>4222</td>\n",
       "      <td>4222</td>\n",
       "      <td>4222</td>\n",
       "      <td>...</td>\n",
       "      <td>4222</td>\n",
       "      <td>4222</td>\n",
       "      <td>4222</td>\n",
       "      <td>4222</td>\n",
       "      <td>4222</td>\n",
       "      <td>4222</td>\n",
       "      <td>4222</td>\n",
       "      <td>4222</td>\n",
       "      <td>4222</td>\n",
       "      <td>4222</td>\n",
       "    </tr>\n",
       "    <tr>\n",
       "      <th>(7200.0, 10800.0]</th>\n",
       "      <td>3326</td>\n",
       "      <td>3326</td>\n",
       "      <td>3326</td>\n",
       "      <td>3326</td>\n",
       "      <td>3326</td>\n",
       "      <td>3326</td>\n",
       "      <td>3326</td>\n",
       "      <td>3326</td>\n",
       "      <td>3326</td>\n",
       "      <td>3326</td>\n",
       "      <td>...</td>\n",
       "      <td>3326</td>\n",
       "      <td>3326</td>\n",
       "      <td>3326</td>\n",
       "      <td>3326</td>\n",
       "      <td>3326</td>\n",
       "      <td>3326</td>\n",
       "      <td>3326</td>\n",
       "      <td>3326</td>\n",
       "      <td>3326</td>\n",
       "      <td>3326</td>\n",
       "    </tr>\n",
       "    <tr>\n",
       "      <th>(10800.0, 14400.0]</th>\n",
       "      <td>3493</td>\n",
       "      <td>3493</td>\n",
       "      <td>3493</td>\n",
       "      <td>3493</td>\n",
       "      <td>3493</td>\n",
       "      <td>3493</td>\n",
       "      <td>3493</td>\n",
       "      <td>3493</td>\n",
       "      <td>3493</td>\n",
       "      <td>3493</td>\n",
       "      <td>...</td>\n",
       "      <td>3493</td>\n",
       "      <td>3493</td>\n",
       "      <td>3493</td>\n",
       "      <td>3493</td>\n",
       "      <td>3493</td>\n",
       "      <td>3493</td>\n",
       "      <td>3493</td>\n",
       "      <td>3493</td>\n",
       "      <td>3493</td>\n",
       "      <td>3493</td>\n",
       "    </tr>\n",
       "    <tr>\n",
       "      <th>(14400.0, 18000.0]</th>\n",
       "      <td>2208</td>\n",
       "      <td>2208</td>\n",
       "      <td>2208</td>\n",
       "      <td>2208</td>\n",
       "      <td>2208</td>\n",
       "      <td>2208</td>\n",
       "      <td>2208</td>\n",
       "      <td>2208</td>\n",
       "      <td>2208</td>\n",
       "      <td>2208</td>\n",
       "      <td>...</td>\n",
       "      <td>2208</td>\n",
       "      <td>2208</td>\n",
       "      <td>2208</td>\n",
       "      <td>2208</td>\n",
       "      <td>2208</td>\n",
       "      <td>2208</td>\n",
       "      <td>2208</td>\n",
       "      <td>2208</td>\n",
       "      <td>2208</td>\n",
       "      <td>2208</td>\n",
       "    </tr>\n",
       "    <tr>\n",
       "      <th>(18000.0, 21600.0]</th>\n",
       "      <td>2990</td>\n",
       "      <td>2990</td>\n",
       "      <td>2990</td>\n",
       "      <td>2990</td>\n",
       "      <td>2990</td>\n",
       "      <td>2990</td>\n",
       "      <td>2990</td>\n",
       "      <td>2990</td>\n",
       "      <td>2990</td>\n",
       "      <td>2990</td>\n",
       "      <td>...</td>\n",
       "      <td>2990</td>\n",
       "      <td>2990</td>\n",
       "      <td>2990</td>\n",
       "      <td>2990</td>\n",
       "      <td>2990</td>\n",
       "      <td>2990</td>\n",
       "      <td>2990</td>\n",
       "      <td>2990</td>\n",
       "      <td>2990</td>\n",
       "      <td>2990</td>\n",
       "    </tr>\n",
       "    <tr>\n",
       "      <th>(21600.0, 25200.0]</th>\n",
       "      <td>4102</td>\n",
       "      <td>4102</td>\n",
       "      <td>4102</td>\n",
       "      <td>4102</td>\n",
       "      <td>4102</td>\n",
       "      <td>4102</td>\n",
       "      <td>4102</td>\n",
       "      <td>4102</td>\n",
       "      <td>4102</td>\n",
       "      <td>4102</td>\n",
       "      <td>...</td>\n",
       "      <td>4102</td>\n",
       "      <td>4102</td>\n",
       "      <td>4102</td>\n",
       "      <td>4102</td>\n",
       "      <td>4102</td>\n",
       "      <td>4102</td>\n",
       "      <td>4102</td>\n",
       "      <td>4102</td>\n",
       "      <td>4102</td>\n",
       "      <td>4102</td>\n",
       "    </tr>\n",
       "    <tr>\n",
       "      <th>(25200.0, 28800.0]</th>\n",
       "      <td>7242</td>\n",
       "      <td>7242</td>\n",
       "      <td>7242</td>\n",
       "      <td>7242</td>\n",
       "      <td>7242</td>\n",
       "      <td>7242</td>\n",
       "      <td>7242</td>\n",
       "      <td>7242</td>\n",
       "      <td>7242</td>\n",
       "      <td>7242</td>\n",
       "      <td>...</td>\n",
       "      <td>7242</td>\n",
       "      <td>7242</td>\n",
       "      <td>7242</td>\n",
       "      <td>7242</td>\n",
       "      <td>7242</td>\n",
       "      <td>7242</td>\n",
       "      <td>7242</td>\n",
       "      <td>7242</td>\n",
       "      <td>7242</td>\n",
       "      <td>7242</td>\n",
       "    </tr>\n",
       "    <tr>\n",
       "      <th>(28800.0, 32400.0]</th>\n",
       "      <td>10275</td>\n",
       "      <td>10275</td>\n",
       "      <td>10275</td>\n",
       "      <td>10275</td>\n",
       "      <td>10275</td>\n",
       "      <td>10275</td>\n",
       "      <td>10275</td>\n",
       "      <td>10275</td>\n",
       "      <td>10275</td>\n",
       "      <td>10275</td>\n",
       "      <td>...</td>\n",
       "      <td>10275</td>\n",
       "      <td>10275</td>\n",
       "      <td>10275</td>\n",
       "      <td>10275</td>\n",
       "      <td>10275</td>\n",
       "      <td>10275</td>\n",
       "      <td>10275</td>\n",
       "      <td>10275</td>\n",
       "      <td>10275</td>\n",
       "      <td>10275</td>\n",
       "    </tr>\n",
       "    <tr>\n",
       "      <th>(32400.0, 36000.0]</th>\n",
       "      <td>15840</td>\n",
       "      <td>15840</td>\n",
       "      <td>15840</td>\n",
       "      <td>15840</td>\n",
       "      <td>15840</td>\n",
       "      <td>15840</td>\n",
       "      <td>15840</td>\n",
       "      <td>15840</td>\n",
       "      <td>15840</td>\n",
       "      <td>15840</td>\n",
       "      <td>...</td>\n",
       "      <td>15840</td>\n",
       "      <td>15840</td>\n",
       "      <td>15840</td>\n",
       "      <td>15840</td>\n",
       "      <td>15840</td>\n",
       "      <td>15840</td>\n",
       "      <td>15840</td>\n",
       "      <td>15840</td>\n",
       "      <td>15840</td>\n",
       "      <td>15840</td>\n",
       "    </tr>\n",
       "    <tr>\n",
       "      <th>(36000.0, 39600.0]</th>\n",
       "      <td>16601</td>\n",
       "      <td>16601</td>\n",
       "      <td>16601</td>\n",
       "      <td>16601</td>\n",
       "      <td>16601</td>\n",
       "      <td>16601</td>\n",
       "      <td>16601</td>\n",
       "      <td>16601</td>\n",
       "      <td>16601</td>\n",
       "      <td>16601</td>\n",
       "      <td>...</td>\n",
       "      <td>16601</td>\n",
       "      <td>16601</td>\n",
       "      <td>16601</td>\n",
       "      <td>16601</td>\n",
       "      <td>16601</td>\n",
       "      <td>16601</td>\n",
       "      <td>16601</td>\n",
       "      <td>16601</td>\n",
       "      <td>16601</td>\n",
       "      <td>16601</td>\n",
       "    </tr>\n",
       "    <tr>\n",
       "      <th>(39600.0, 43200.0]</th>\n",
       "      <td>16857</td>\n",
       "      <td>16857</td>\n",
       "      <td>16857</td>\n",
       "      <td>16857</td>\n",
       "      <td>16857</td>\n",
       "      <td>16857</td>\n",
       "      <td>16857</td>\n",
       "      <td>16857</td>\n",
       "      <td>16857</td>\n",
       "      <td>16857</td>\n",
       "      <td>...</td>\n",
       "      <td>16857</td>\n",
       "      <td>16857</td>\n",
       "      <td>16857</td>\n",
       "      <td>16857</td>\n",
       "      <td>16857</td>\n",
       "      <td>16857</td>\n",
       "      <td>16857</td>\n",
       "      <td>16857</td>\n",
       "      <td>16857</td>\n",
       "      <td>16857</td>\n",
       "    </tr>\n",
       "    <tr>\n",
       "      <th>(43200.0, 46800.0]</th>\n",
       "      <td>15417</td>\n",
       "      <td>15417</td>\n",
       "      <td>15417</td>\n",
       "      <td>15417</td>\n",
       "      <td>15417</td>\n",
       "      <td>15417</td>\n",
       "      <td>15417</td>\n",
       "      <td>15417</td>\n",
       "      <td>15417</td>\n",
       "      <td>15417</td>\n",
       "      <td>...</td>\n",
       "      <td>15417</td>\n",
       "      <td>15417</td>\n",
       "      <td>15417</td>\n",
       "      <td>15417</td>\n",
       "      <td>15417</td>\n",
       "      <td>15417</td>\n",
       "      <td>15417</td>\n",
       "      <td>15417</td>\n",
       "      <td>15417</td>\n",
       "      <td>15417</td>\n",
       "    </tr>\n",
       "    <tr>\n",
       "      <th>(46800.0, 50400.0]</th>\n",
       "      <td>15367</td>\n",
       "      <td>15367</td>\n",
       "      <td>15367</td>\n",
       "      <td>15367</td>\n",
       "      <td>15367</td>\n",
       "      <td>15367</td>\n",
       "      <td>15367</td>\n",
       "      <td>15367</td>\n",
       "      <td>15367</td>\n",
       "      <td>15367</td>\n",
       "      <td>...</td>\n",
       "      <td>15367</td>\n",
       "      <td>15367</td>\n",
       "      <td>15367</td>\n",
       "      <td>15367</td>\n",
       "      <td>15367</td>\n",
       "      <td>15367</td>\n",
       "      <td>15367</td>\n",
       "      <td>15367</td>\n",
       "      <td>15367</td>\n",
       "      <td>15367</td>\n",
       "    </tr>\n",
       "    <tr>\n",
       "      <th>(50400.0, 54000.0]</th>\n",
       "      <td>16568</td>\n",
       "      <td>16568</td>\n",
       "      <td>16568</td>\n",
       "      <td>16568</td>\n",
       "      <td>16568</td>\n",
       "      <td>16568</td>\n",
       "      <td>16568</td>\n",
       "      <td>16568</td>\n",
       "      <td>16568</td>\n",
       "      <td>16568</td>\n",
       "      <td>...</td>\n",
       "      <td>16568</td>\n",
       "      <td>16568</td>\n",
       "      <td>16568</td>\n",
       "      <td>16568</td>\n",
       "      <td>16568</td>\n",
       "      <td>16568</td>\n",
       "      <td>16568</td>\n",
       "      <td>16568</td>\n",
       "      <td>16568</td>\n",
       "      <td>16568</td>\n",
       "    </tr>\n",
       "    <tr>\n",
       "      <th>(54000.0, 57600.0]</th>\n",
       "      <td>16460</td>\n",
       "      <td>16460</td>\n",
       "      <td>16460</td>\n",
       "      <td>16460</td>\n",
       "      <td>16460</td>\n",
       "      <td>16460</td>\n",
       "      <td>16460</td>\n",
       "      <td>16460</td>\n",
       "      <td>16460</td>\n",
       "      <td>16460</td>\n",
       "      <td>...</td>\n",
       "      <td>16460</td>\n",
       "      <td>16460</td>\n",
       "      <td>16460</td>\n",
       "      <td>16460</td>\n",
       "      <td>16460</td>\n",
       "      <td>16460</td>\n",
       "      <td>16460</td>\n",
       "      <td>16460</td>\n",
       "      <td>16460</td>\n",
       "      <td>16460</td>\n",
       "    </tr>\n",
       "    <tr>\n",
       "      <th>(57600.0, 61200.0]</th>\n",
       "      <td>16457</td>\n",
       "      <td>16457</td>\n",
       "      <td>16457</td>\n",
       "      <td>16457</td>\n",
       "      <td>16457</td>\n",
       "      <td>16457</td>\n",
       "      <td>16457</td>\n",
       "      <td>16457</td>\n",
       "      <td>16457</td>\n",
       "      <td>16457</td>\n",
       "      <td>...</td>\n",
       "      <td>16457</td>\n",
       "      <td>16457</td>\n",
       "      <td>16457</td>\n",
       "      <td>16457</td>\n",
       "      <td>16457</td>\n",
       "      <td>16457</td>\n",
       "      <td>16457</td>\n",
       "      <td>16457</td>\n",
       "      <td>16457</td>\n",
       "      <td>16457</td>\n",
       "    </tr>\n",
       "    <tr>\n",
       "      <th>(61200.0, 64800.0]</th>\n",
       "      <td>16164</td>\n",
       "      <td>16164</td>\n",
       "      <td>16164</td>\n",
       "      <td>16164</td>\n",
       "      <td>16164</td>\n",
       "      <td>16164</td>\n",
       "      <td>16164</td>\n",
       "      <td>16164</td>\n",
       "      <td>16164</td>\n",
       "      <td>16164</td>\n",
       "      <td>...</td>\n",
       "      <td>16164</td>\n",
       "      <td>16164</td>\n",
       "      <td>16164</td>\n",
       "      <td>16164</td>\n",
       "      <td>16164</td>\n",
       "      <td>16164</td>\n",
       "      <td>16164</td>\n",
       "      <td>16164</td>\n",
       "      <td>16164</td>\n",
       "      <td>16164</td>\n",
       "    </tr>\n",
       "    <tr>\n",
       "      <th>(64800.0, 68400.0]</th>\n",
       "      <td>17036</td>\n",
       "      <td>17036</td>\n",
       "      <td>17036</td>\n",
       "      <td>17036</td>\n",
       "      <td>17036</td>\n",
       "      <td>17036</td>\n",
       "      <td>17036</td>\n",
       "      <td>17036</td>\n",
       "      <td>17036</td>\n",
       "      <td>17036</td>\n",
       "      <td>...</td>\n",
       "      <td>17036</td>\n",
       "      <td>17036</td>\n",
       "      <td>17036</td>\n",
       "      <td>17036</td>\n",
       "      <td>17036</td>\n",
       "      <td>17036</td>\n",
       "      <td>17036</td>\n",
       "      <td>17036</td>\n",
       "      <td>17036</td>\n",
       "      <td>17036</td>\n",
       "    </tr>\n",
       "    <tr>\n",
       "      <th>(68400.0, 72000.0]</th>\n",
       "      <td>15651</td>\n",
       "      <td>15651</td>\n",
       "      <td>15651</td>\n",
       "      <td>15651</td>\n",
       "      <td>15651</td>\n",
       "      <td>15651</td>\n",
       "      <td>15651</td>\n",
       "      <td>15651</td>\n",
       "      <td>15651</td>\n",
       "      <td>15651</td>\n",
       "      <td>...</td>\n",
       "      <td>15651</td>\n",
       "      <td>15651</td>\n",
       "      <td>15651</td>\n",
       "      <td>15651</td>\n",
       "      <td>15651</td>\n",
       "      <td>15651</td>\n",
       "      <td>15651</td>\n",
       "      <td>15651</td>\n",
       "      <td>15651</td>\n",
       "      <td>15651</td>\n",
       "    </tr>\n",
       "    <tr>\n",
       "      <th>(72000.0, 75600.0]</th>\n",
       "      <td>16757</td>\n",
       "      <td>16757</td>\n",
       "      <td>16757</td>\n",
       "      <td>16757</td>\n",
       "      <td>16757</td>\n",
       "      <td>16757</td>\n",
       "      <td>16757</td>\n",
       "      <td>16757</td>\n",
       "      <td>16757</td>\n",
       "      <td>16757</td>\n",
       "      <td>...</td>\n",
       "      <td>16757</td>\n",
       "      <td>16757</td>\n",
       "      <td>16757</td>\n",
       "      <td>16757</td>\n",
       "      <td>16757</td>\n",
       "      <td>16757</td>\n",
       "      <td>16757</td>\n",
       "      <td>16757</td>\n",
       "      <td>16757</td>\n",
       "      <td>16757</td>\n",
       "    </tr>\n",
       "    <tr>\n",
       "      <th>(75600.0, 79200.0]</th>\n",
       "      <td>17708</td>\n",
       "      <td>17708</td>\n",
       "      <td>17708</td>\n",
       "      <td>17708</td>\n",
       "      <td>17708</td>\n",
       "      <td>17708</td>\n",
       "      <td>17708</td>\n",
       "      <td>17708</td>\n",
       "      <td>17708</td>\n",
       "      <td>17708</td>\n",
       "      <td>...</td>\n",
       "      <td>17708</td>\n",
       "      <td>17708</td>\n",
       "      <td>17708</td>\n",
       "      <td>17708</td>\n",
       "      <td>17708</td>\n",
       "      <td>17708</td>\n",
       "      <td>17708</td>\n",
       "      <td>17708</td>\n",
       "      <td>17708</td>\n",
       "      <td>17708</td>\n",
       "    </tr>\n",
       "    <tr>\n",
       "      <th>(79200.0, 82800.0]</th>\n",
       "      <td>15433</td>\n",
       "      <td>15433</td>\n",
       "      <td>15433</td>\n",
       "      <td>15433</td>\n",
       "      <td>15433</td>\n",
       "      <td>15433</td>\n",
       "      <td>15433</td>\n",
       "      <td>15433</td>\n",
       "      <td>15433</td>\n",
       "      <td>15433</td>\n",
       "      <td>...</td>\n",
       "      <td>15433</td>\n",
       "      <td>15433</td>\n",
       "      <td>15433</td>\n",
       "      <td>15433</td>\n",
       "      <td>15433</td>\n",
       "      <td>15433</td>\n",
       "      <td>15433</td>\n",
       "      <td>15433</td>\n",
       "      <td>15433</td>\n",
       "      <td>15433</td>\n",
       "    </tr>\n",
       "    <tr>\n",
       "      <th>(82800.0, 86400.0]</th>\n",
       "      <td>10938</td>\n",
       "      <td>10938</td>\n",
       "      <td>10938</td>\n",
       "      <td>10938</td>\n",
       "      <td>10938</td>\n",
       "      <td>10938</td>\n",
       "      <td>10938</td>\n",
       "      <td>10938</td>\n",
       "      <td>10938</td>\n",
       "      <td>10938</td>\n",
       "      <td>...</td>\n",
       "      <td>10938</td>\n",
       "      <td>10938</td>\n",
       "      <td>10938</td>\n",
       "      <td>10938</td>\n",
       "      <td>10938</td>\n",
       "      <td>10938</td>\n",
       "      <td>10938</td>\n",
       "      <td>10938</td>\n",
       "      <td>10938</td>\n",
       "      <td>10938</td>\n",
       "    </tr>\n",
       "  </tbody>\n",
       "</table>\n",
       "<p>24 rows × 33 columns</p>\n",
       "</div>"
      ],
      "text/plain": [
       "                     Time     V1     V2     V3     V4     V5     V6     V7  \\\n",
       "Time_cluster                                                                 \n",
       "(-86.4, 3600.0]      7695   7695   7695   7695   7695   7695   7695   7695   \n",
       "(3600.0, 7200.0]     4222   4222   4222   4222   4222   4222   4222   4222   \n",
       "(7200.0, 10800.0]    3326   3326   3326   3326   3326   3326   3326   3326   \n",
       "(10800.0, 14400.0]   3493   3493   3493   3493   3493   3493   3493   3493   \n",
       "(14400.0, 18000.0]   2208   2208   2208   2208   2208   2208   2208   2208   \n",
       "(18000.0, 21600.0]   2990   2990   2990   2990   2990   2990   2990   2990   \n",
       "(21600.0, 25200.0]   4102   4102   4102   4102   4102   4102   4102   4102   \n",
       "(25200.0, 28800.0]   7242   7242   7242   7242   7242   7242   7242   7242   \n",
       "(28800.0, 32400.0]  10275  10275  10275  10275  10275  10275  10275  10275   \n",
       "(32400.0, 36000.0]  15840  15840  15840  15840  15840  15840  15840  15840   \n",
       "(36000.0, 39600.0]  16601  16601  16601  16601  16601  16601  16601  16601   \n",
       "(39600.0, 43200.0]  16857  16857  16857  16857  16857  16857  16857  16857   \n",
       "(43200.0, 46800.0]  15417  15417  15417  15417  15417  15417  15417  15417   \n",
       "(46800.0, 50400.0]  15367  15367  15367  15367  15367  15367  15367  15367   \n",
       "(50400.0, 54000.0]  16568  16568  16568  16568  16568  16568  16568  16568   \n",
       "(54000.0, 57600.0]  16460  16460  16460  16460  16460  16460  16460  16460   \n",
       "(57600.0, 61200.0]  16457  16457  16457  16457  16457  16457  16457  16457   \n",
       "(61200.0, 64800.0]  16164  16164  16164  16164  16164  16164  16164  16164   \n",
       "(64800.0, 68400.0]  17036  17036  17036  17036  17036  17036  17036  17036   \n",
       "(68400.0, 72000.0]  15651  15651  15651  15651  15651  15651  15651  15651   \n",
       "(72000.0, 75600.0]  16757  16757  16757  16757  16757  16757  16757  16757   \n",
       "(75600.0, 79200.0]  17708  17708  17708  17708  17708  17708  17708  17708   \n",
       "(79200.0, 82800.0]  15433  15433  15433  15433  15433  15433  15433  15433   \n",
       "(82800.0, 86400.0]  10938  10938  10938  10938  10938  10938  10938  10938   \n",
       "\n",
       "                       V8     V9    ...       V23    V24    V25    V26    V27  \\\n",
       "Time_cluster                        ...                                         \n",
       "(-86.4, 3600.0]      7695   7695    ...      7695   7695   7695   7695   7695   \n",
       "(3600.0, 7200.0]     4222   4222    ...      4222   4222   4222   4222   4222   \n",
       "(7200.0, 10800.0]    3326   3326    ...      3326   3326   3326   3326   3326   \n",
       "(10800.0, 14400.0]   3493   3493    ...      3493   3493   3493   3493   3493   \n",
       "(14400.0, 18000.0]   2208   2208    ...      2208   2208   2208   2208   2208   \n",
       "(18000.0, 21600.0]   2990   2990    ...      2990   2990   2990   2990   2990   \n",
       "(21600.0, 25200.0]   4102   4102    ...      4102   4102   4102   4102   4102   \n",
       "(25200.0, 28800.0]   7242   7242    ...      7242   7242   7242   7242   7242   \n",
       "(28800.0, 32400.0]  10275  10275    ...     10275  10275  10275  10275  10275   \n",
       "(32400.0, 36000.0]  15840  15840    ...     15840  15840  15840  15840  15840   \n",
       "(36000.0, 39600.0]  16601  16601    ...     16601  16601  16601  16601  16601   \n",
       "(39600.0, 43200.0]  16857  16857    ...     16857  16857  16857  16857  16857   \n",
       "(43200.0, 46800.0]  15417  15417    ...     15417  15417  15417  15417  15417   \n",
       "(46800.0, 50400.0]  15367  15367    ...     15367  15367  15367  15367  15367   \n",
       "(50400.0, 54000.0]  16568  16568    ...     16568  16568  16568  16568  16568   \n",
       "(54000.0, 57600.0]  16460  16460    ...     16460  16460  16460  16460  16460   \n",
       "(57600.0, 61200.0]  16457  16457    ...     16457  16457  16457  16457  16457   \n",
       "(61200.0, 64800.0]  16164  16164    ...     16164  16164  16164  16164  16164   \n",
       "(64800.0, 68400.0]  17036  17036    ...     17036  17036  17036  17036  17036   \n",
       "(68400.0, 72000.0]  15651  15651    ...     15651  15651  15651  15651  15651   \n",
       "(72000.0, 75600.0]  16757  16757    ...     16757  16757  16757  16757  16757   \n",
       "(75600.0, 79200.0]  17708  17708    ...     17708  17708  17708  17708  17708   \n",
       "(79200.0, 82800.0]  15433  15433    ...     15433  15433  15433  15433  15433   \n",
       "(82800.0, 86400.0]  10938  10938    ...     10938  10938  10938  10938  10938   \n",
       "\n",
       "                      V28  Amount  Class    day  Time_day  \n",
       "Time_cluster                                               \n",
       "(-86.4, 3600.0]      7695    7695   7695   7695      7695  \n",
       "(3600.0, 7200.0]     4222    4222   4222   4222      4222  \n",
       "(7200.0, 10800.0]    3326    3326   3326   3326      3326  \n",
       "(10800.0, 14400.0]   3493    3493   3493   3493      3493  \n",
       "(14400.0, 18000.0]   2208    2208   2208   2208      2208  \n",
       "(18000.0, 21600.0]   2990    2990   2990   2990      2990  \n",
       "(21600.0, 25200.0]   4102    4102   4102   4102      4102  \n",
       "(25200.0, 28800.0]   7242    7242   7242   7242      7242  \n",
       "(28800.0, 32400.0]  10275   10275  10275  10275     10275  \n",
       "(32400.0, 36000.0]  15840   15840  15840  15840     15840  \n",
       "(36000.0, 39600.0]  16601   16601  16601  16601     16601  \n",
       "(39600.0, 43200.0]  16857   16857  16857  16857     16857  \n",
       "(43200.0, 46800.0]  15417   15417  15417  15417     15417  \n",
       "(46800.0, 50400.0]  15367   15367  15367  15367     15367  \n",
       "(50400.0, 54000.0]  16568   16568  16568  16568     16568  \n",
       "(54000.0, 57600.0]  16460   16460  16460  16460     16460  \n",
       "(57600.0, 61200.0]  16457   16457  16457  16457     16457  \n",
       "(61200.0, 64800.0]  16164   16164  16164  16164     16164  \n",
       "(64800.0, 68400.0]  17036   17036  17036  17036     17036  \n",
       "(68400.0, 72000.0]  15651   15651  15651  15651     15651  \n",
       "(72000.0, 75600.0]  16757   16757  16757  16757     16757  \n",
       "(75600.0, 79200.0]  17708   17708  17708  17708     17708  \n",
       "(79200.0, 82800.0]  15433   15433  15433  15433     15433  \n",
       "(82800.0, 86400.0]  10938   10938  10938  10938     10938  \n",
       "\n",
       "[24 rows x 33 columns]"
      ]
     },
     "execution_count": 10,
     "metadata": {},
     "output_type": "execute_result"
    }
   ],
   "source": [
    "df.groupby('Time_cluster').count()"
   ]
  },
  {
   "cell_type": "code",
   "execution_count": 15,
   "metadata": {
    "collapsed": false
   },
   "outputs": [
    {
     "data": {
      "text/html": [
       "<div>\n",
       "<style>\n",
       "    .dataframe thead tr:only-child th {\n",
       "        text-align: right;\n",
       "    }\n",
       "\n",
       "    .dataframe thead th {\n",
       "        text-align: left;\n",
       "    }\n",
       "\n",
       "    .dataframe tbody tr th {\n",
       "        vertical-align: top;\n",
       "    }\n",
       "</style>\n",
       "<table border=\"1\" class=\"dataframe\">\n",
       "  <thead>\n",
       "    <tr style=\"text-align: right;\">\n",
       "      <th></th>\n",
       "      <th>V1</th>\n",
       "      <th>V2</th>\n",
       "      <th>V3</th>\n",
       "      <th>V4</th>\n",
       "      <th>V5</th>\n",
       "      <th>V6</th>\n",
       "      <th>V7</th>\n",
       "      <th>V8</th>\n",
       "      <th>V9</th>\n",
       "      <th>V10</th>\n",
       "      <th>...</th>\n",
       "      <th>V22</th>\n",
       "      <th>V23</th>\n",
       "      <th>V24</th>\n",
       "      <th>V25</th>\n",
       "      <th>V26</th>\n",
       "      <th>V27</th>\n",
       "      <th>V28</th>\n",
       "      <th>Amount</th>\n",
       "      <th>Class</th>\n",
       "      <th>Time_cluster</th>\n",
       "    </tr>\n",
       "  </thead>\n",
       "  <tbody>\n",
       "    <tr>\n",
       "      <th>284802</th>\n",
       "      <td>-11.881118</td>\n",
       "      <td>10.071785</td>\n",
       "      <td>-9.834783</td>\n",
       "      <td>-2.066656</td>\n",
       "      <td>-5.364473</td>\n",
       "      <td>-2.606837</td>\n",
       "      <td>-4.918215</td>\n",
       "      <td>7.305334</td>\n",
       "      <td>1.914428</td>\n",
       "      <td>4.356170</td>\n",
       "      <td>...</td>\n",
       "      <td>0.111864</td>\n",
       "      <td>1.014480</td>\n",
       "      <td>-0.509348</td>\n",
       "      <td>1.436807</td>\n",
       "      <td>0.250034</td>\n",
       "      <td>0.943651</td>\n",
       "      <td>0.823731</td>\n",
       "      <td>0.77</td>\n",
       "      <td>0</td>\n",
       "      <td>(82800.0, 86400.0]</td>\n",
       "    </tr>\n",
       "    <tr>\n",
       "      <th>284803</th>\n",
       "      <td>-0.732789</td>\n",
       "      <td>-0.055080</td>\n",
       "      <td>2.035030</td>\n",
       "      <td>-0.738589</td>\n",
       "      <td>0.868229</td>\n",
       "      <td>1.058415</td>\n",
       "      <td>0.024330</td>\n",
       "      <td>0.294869</td>\n",
       "      <td>0.584800</td>\n",
       "      <td>-0.975926</td>\n",
       "      <td>...</td>\n",
       "      <td>0.924384</td>\n",
       "      <td>0.012463</td>\n",
       "      <td>-1.016226</td>\n",
       "      <td>-0.606624</td>\n",
       "      <td>-0.395255</td>\n",
       "      <td>0.068472</td>\n",
       "      <td>-0.053527</td>\n",
       "      <td>24.79</td>\n",
       "      <td>0</td>\n",
       "      <td>(82800.0, 86400.0]</td>\n",
       "    </tr>\n",
       "    <tr>\n",
       "      <th>284804</th>\n",
       "      <td>1.919565</td>\n",
       "      <td>-0.301254</td>\n",
       "      <td>-3.249640</td>\n",
       "      <td>-0.557828</td>\n",
       "      <td>2.630515</td>\n",
       "      <td>3.031260</td>\n",
       "      <td>-0.296827</td>\n",
       "      <td>0.708417</td>\n",
       "      <td>0.432454</td>\n",
       "      <td>-0.484782</td>\n",
       "      <td>...</td>\n",
       "      <td>0.578229</td>\n",
       "      <td>-0.037501</td>\n",
       "      <td>0.640134</td>\n",
       "      <td>0.265745</td>\n",
       "      <td>-0.087371</td>\n",
       "      <td>0.004455</td>\n",
       "      <td>-0.026561</td>\n",
       "      <td>67.88</td>\n",
       "      <td>0</td>\n",
       "      <td>(82800.0, 86400.0]</td>\n",
       "    </tr>\n",
       "    <tr>\n",
       "      <th>284805</th>\n",
       "      <td>-0.240440</td>\n",
       "      <td>0.530483</td>\n",
       "      <td>0.702510</td>\n",
       "      <td>0.689799</td>\n",
       "      <td>-0.377961</td>\n",
       "      <td>0.623708</td>\n",
       "      <td>-0.686180</td>\n",
       "      <td>0.679145</td>\n",
       "      <td>0.392087</td>\n",
       "      <td>-0.399126</td>\n",
       "      <td>...</td>\n",
       "      <td>0.800049</td>\n",
       "      <td>-0.163298</td>\n",
       "      <td>0.123205</td>\n",
       "      <td>-0.569159</td>\n",
       "      <td>0.546668</td>\n",
       "      <td>0.108821</td>\n",
       "      <td>0.104533</td>\n",
       "      <td>10.00</td>\n",
       "      <td>0</td>\n",
       "      <td>(82800.0, 86400.0]</td>\n",
       "    </tr>\n",
       "    <tr>\n",
       "      <th>284806</th>\n",
       "      <td>-0.533413</td>\n",
       "      <td>-0.189733</td>\n",
       "      <td>0.703337</td>\n",
       "      <td>-0.506271</td>\n",
       "      <td>-0.012546</td>\n",
       "      <td>-0.649617</td>\n",
       "      <td>1.577006</td>\n",
       "      <td>-0.414650</td>\n",
       "      <td>0.486180</td>\n",
       "      <td>-0.915427</td>\n",
       "      <td>...</td>\n",
       "      <td>0.643078</td>\n",
       "      <td>0.376777</td>\n",
       "      <td>0.008797</td>\n",
       "      <td>-0.473649</td>\n",
       "      <td>-0.818267</td>\n",
       "      <td>-0.002415</td>\n",
       "      <td>0.013649</td>\n",
       "      <td>217.00</td>\n",
       "      <td>0</td>\n",
       "      <td>(82800.0, 86400.0]</td>\n",
       "    </tr>\n",
       "  </tbody>\n",
       "</table>\n",
       "<p>5 rows × 31 columns</p>\n",
       "</div>"
      ],
      "text/plain": [
       "               V1         V2        V3        V4        V5        V6  \\\n",
       "284802 -11.881118  10.071785 -9.834783 -2.066656 -5.364473 -2.606837   \n",
       "284803  -0.732789  -0.055080  2.035030 -0.738589  0.868229  1.058415   \n",
       "284804   1.919565  -0.301254 -3.249640 -0.557828  2.630515  3.031260   \n",
       "284805  -0.240440   0.530483  0.702510  0.689799 -0.377961  0.623708   \n",
       "284806  -0.533413  -0.189733  0.703337 -0.506271 -0.012546 -0.649617   \n",
       "\n",
       "              V7        V8        V9       V10         ...               V22  \\\n",
       "284802 -4.918215  7.305334  1.914428  4.356170         ...          0.111864   \n",
       "284803  0.024330  0.294869  0.584800 -0.975926         ...          0.924384   \n",
       "284804 -0.296827  0.708417  0.432454 -0.484782         ...          0.578229   \n",
       "284805 -0.686180  0.679145  0.392087 -0.399126         ...          0.800049   \n",
       "284806  1.577006 -0.414650  0.486180 -0.915427         ...          0.643078   \n",
       "\n",
       "             V23       V24       V25       V26       V27       V28  Amount  \\\n",
       "284802  1.014480 -0.509348  1.436807  0.250034  0.943651  0.823731    0.77   \n",
       "284803  0.012463 -1.016226 -0.606624 -0.395255  0.068472 -0.053527   24.79   \n",
       "284804 -0.037501  0.640134  0.265745 -0.087371  0.004455 -0.026561   67.88   \n",
       "284805 -0.163298  0.123205 -0.569159  0.546668  0.108821  0.104533   10.00   \n",
       "284806  0.376777  0.008797 -0.473649 -0.818267 -0.002415  0.013649  217.00   \n",
       "\n",
       "        Class        Time_cluster  \n",
       "284802      0  (82800.0, 86400.0]  \n",
       "284803      0  (82800.0, 86400.0]  \n",
       "284804      0  (82800.0, 86400.0]  \n",
       "284805      0  (82800.0, 86400.0]  \n",
       "284806      0  (82800.0, 86400.0]  \n",
       "\n",
       "[5 rows x 31 columns]"
      ]
     },
     "execution_count": 15,
     "metadata": {},
     "output_type": "execute_result"
    }
   ],
   "source": [
    "df_new = df.drop(['Time','day','Time_day'], axis=1)\n",
    "df_new.tail()"
   ]
  },
  {
   "cell_type": "code",
   "execution_count": 16,
   "metadata": {
    "collapsed": true
   },
   "outputs": [],
   "source": [
    "df_new = pd.get_dummies(df_new)"
   ]
  },
  {
   "cell_type": "code",
   "execution_count": 17,
   "metadata": {
    "collapsed": false
   },
   "outputs": [
    {
     "data": {
      "text/plain": [
       "Index([u'V1', u'V2', u'V3', u'V4', u'V5', u'V6', u'V7', u'V8', u'V9', u'V10',\n",
       "       u'V11', u'V12', u'V13', u'V14', u'V15', u'V16', u'V17', u'V18', u'V19',\n",
       "       u'V20', u'V21', u'V22', u'V23', u'V24', u'V25', u'V26', u'V27', u'V28',\n",
       "       u'Amount', u'Class', u'Time_cluster_(-86.4, 3600.0]',\n",
       "       u'Time_cluster_(3600.0, 7200.0]', u'Time_cluster_(7200.0, 10800.0]',\n",
       "       u'Time_cluster_(10800.0, 14400.0]', u'Time_cluster_(14400.0, 18000.0]',\n",
       "       u'Time_cluster_(18000.0, 21600.0]', u'Time_cluster_(21600.0, 25200.0]',\n",
       "       u'Time_cluster_(25200.0, 28800.0]', u'Time_cluster_(28800.0, 32400.0]',\n",
       "       u'Time_cluster_(32400.0, 36000.0]', u'Time_cluster_(36000.0, 39600.0]',\n",
       "       u'Time_cluster_(39600.0, 43200.0]', u'Time_cluster_(43200.0, 46800.0]',\n",
       "       u'Time_cluster_(46800.0, 50400.0]', u'Time_cluster_(50400.0, 54000.0]',\n",
       "       u'Time_cluster_(54000.0, 57600.0]', u'Time_cluster_(57600.0, 61200.0]',\n",
       "       u'Time_cluster_(61200.0, 64800.0]', u'Time_cluster_(64800.0, 68400.0]',\n",
       "       u'Time_cluster_(68400.0, 72000.0]', u'Time_cluster_(72000.0, 75600.0]',\n",
       "       u'Time_cluster_(75600.0, 79200.0]', u'Time_cluster_(79200.0, 82800.0]',\n",
       "       u'Time_cluster_(82800.0, 86400.0]'],\n",
       "      dtype='object')"
      ]
     },
     "execution_count": 17,
     "metadata": {},
     "output_type": "execute_result"
    }
   ],
   "source": [
    "df_new.columns"
   ]
  },
  {
   "cell_type": "markdown",
   "metadata": {},
   "source": [
    "Splitting the data into train, val and test set:"
   ]
  },
  {
   "cell_type": "code",
   "execution_count": 20,
   "metadata": {
    "collapsed": false
   },
   "outputs": [
    {
     "data": {
      "text/plain": [
       "284807"
      ]
     },
     "execution_count": 20,
     "metadata": {},
     "output_type": "execute_result"
    },
    {
     "data": {
      "text/plain": [
       "284807"
      ]
     },
     "execution_count": 20,
     "metadata": {},
     "output_type": "execute_result"
    }
   ],
   "source": [
    "X = df_new.drop(['Class'], axis=1)\n",
    "y = df_new.Class\n",
    "\n",
    "len(X)\n",
    "len(y)"
   ]
  },
  {
   "cell_type": "code",
   "execution_count": 21,
   "metadata": {
    "collapsed": true
   },
   "outputs": [],
   "source": [
    "from sklearn.model_selection import train_test_split"
   ]
  },
  {
   "cell_type": "code",
   "execution_count": 22,
   "metadata": {
    "collapsed": true
   },
   "outputs": [],
   "source": [
    "def train_val_test_split(X,y,test_size,val_size):\n",
    "    X_train_val, X_test, y_train_val, y_test = train_test_split(X, y, random_state=0, test_size = test_size, stratify=y)\n",
    "    X_train, X_val, y_train, y_val = train_test_split(X_train_val, y_train_val, random_state=0, test_size = val_size)\n",
    "    return X_train, X_val, X_test, y_train, y_val, y_test"
   ]
  },
  {
   "cell_type": "code",
   "execution_count": 23,
   "metadata": {
    "collapsed": true
   },
   "outputs": [],
   "source": [
    "X_train, X_val, X_test, y_train, y_val, y_test = train_val_test_split(X,y,test_size=0.12221,val_size=0.2)"
   ]
  },
  {
   "cell_type": "code",
   "execution_count": 24,
   "metadata": {
    "collapsed": false
   },
   "outputs": [
    {
     "data": {
      "text/plain": [
       "222360"
      ]
     },
     "execution_count": 24,
     "metadata": {},
     "output_type": "execute_result"
    },
    {
     "data": {
      "text/plain": [
       "55591"
      ]
     },
     "execution_count": 24,
     "metadata": {},
     "output_type": "execute_result"
    },
    {
     "data": {
      "text/plain": [
       "5307"
      ]
     },
     "execution_count": 24,
     "metadata": {},
     "output_type": "execute_result"
    },
    {
     "data": {
      "text/plain": [
       "222360"
      ]
     },
     "execution_count": 24,
     "metadata": {},
     "output_type": "execute_result"
    },
    {
     "data": {
      "text/plain": [
       "55591"
      ]
     },
     "execution_count": 24,
     "metadata": {},
     "output_type": "execute_result"
    },
    {
     "data": {
      "text/plain": [
       "5307"
      ]
     },
     "execution_count": 24,
     "metadata": {},
     "output_type": "execute_result"
    },
    {
     "data": {
      "text/plain": [
       "346"
      ]
     },
     "execution_count": 24,
     "metadata": {},
     "output_type": "execute_result"
    },
    {
     "data": {
      "text/plain": [
       "86"
      ]
     },
     "execution_count": 24,
     "metadata": {},
     "output_type": "execute_result"
    },
    {
     "data": {
      "text/plain": [
       "8"
      ]
     },
     "execution_count": 24,
     "metadata": {},
     "output_type": "execute_result"
    }
   ],
   "source": [
    "len(X_train)\n",
    "len(X_val)\n",
    "len(X_test)\n",
    "len(y_train)\n",
    "len(y_val)\n",
    "len(y_test)\n",
    "\n",
    "##non null values\n",
    "y_train.sum()\n",
    "y_val.sum()\n",
    "y_test.sum()"
   ]
  },
  {
   "cell_type": "markdown",
   "metadata": {},
   "source": [
    "Now you can use X_train and y_train for training, X_val and y_val for validation and X_test and y_test for testing."
   ]
  },
  {
   "cell_type": "markdown",
   "metadata": {},
   "source": [
    "Note: for oversampling I suggest to use the package imblearn. Here is the installation guide: https://pypi.org/project/imbalanced-learn/\n",
    "\n",
    "A sample code to use this (I didn't test the code, I just put it here for reference):"
   ]
  },
  {
   "cell_type": "code",
   "execution_count": 27,
   "metadata": {
    "collapsed": false
   },
   "outputs": [
    {
     "ename": "SyntaxError",
     "evalue": "invalid syntax (<ipython-input-27-e62cdb060abe>, line 1)",
     "output_type": "error",
     "traceback": [
      "\u001b[1;36m  File \u001b[1;32m\"<ipython-input-27-e62cdb060abe>\"\u001b[1;36m, line \u001b[1;32m1\u001b[0m\n\u001b[1;33m    pip install U imbalanced learn\u001b[0m\n\u001b[1;37m              ^\u001b[0m\n\u001b[1;31mSyntaxError\u001b[0m\u001b[1;31m:\u001b[0m invalid syntax\n"
     ]
    }
   ],
   "source": [
    "pip install U imbalanced learn"
   ]
  },
  {
   "cell_type": "code",
   "execution_count": 34,
   "metadata": {
    "collapsed": false
   },
   "outputs": [
    {
     "name": "stdout",
     "output_type": "stream",
     "text": [
      "Collecting imblearn\n",
      "  Downloading https://files.pythonhosted.org/packages/81/a7/4179e6ebfd654bd0eac0b9c06125b8b4c96a9d0a8ff9e9507eb2a26d2d7e/imblearn-0.0-py2.py3-none-any.whl\n",
      "Collecting imbalanced-learn (from imblearn)\n",
      "  Using cached https://files.pythonhosted.org/packages/7a/63/416529a405262610350b92b949b3aede55a032e4f5ab94fbbfce82883ee6/imbalanced-learn-0.3.3.tar.gz\n",
      "Requirement already satisfied (use --upgrade to upgrade): scipy in c:\\users\\shikh\\appdata\\local\\enthought\\canopy32\\user\\lib\\site-packages (from imbalanced-learn->imblearn)\n",
      "Requirement already satisfied (use --upgrade to upgrade): numpy in c:\\users\\shikh\\appdata\\local\\enthought\\canopy32\\user\\lib\\site-packages (from imbalanced-learn->imblearn)\n",
      "Requirement already satisfied (use --upgrade to upgrade): scikit-learn in c:\\users\\shikh\\appdata\\local\\enthought\\canopy32\\user\\lib\\site-packages (from imbalanced-learn->imblearn)\n",
      "Installing collected packages: imbalanced-learn, imblearn\n",
      "  Running setup.py install for imbalanced-learn: started\n",
      "    Running setup.py install for imbalanced-learn: finished with status 'done'\n",
      "Successfully installed imbalanced-learn-0.3.3 imblearn-0.0\n"
     ]
    },
    {
     "name": "stderr",
     "output_type": "stream",
     "text": [
      "You are using pip version 8.1.2, however version 10.0.1 is available.\n",
      "You should consider upgrading via the 'python -m pip install --upgrade pip' command.\n"
     ]
    }
   ],
   "source": [
    "#!pip install imblearn"
   ]
  },
  {
   "cell_type": "code",
   "execution_count": 36,
   "metadata": {
    "collapsed": false
   },
   "outputs": [],
   "source": [
    "\n",
    "from imblearn.over_sampling import SMOTE"
   ]
  },
  {
   "cell_type": "code",
   "execution_count": 37,
   "metadata": {
    "collapsed": false
   },
   "outputs": [
    {
     "name": "stdout",
     "output_type": "stream",
     "text": [
      "Original dataset shape Counter({1: 900, 0: 100})\n",
      "Resampled dataset shape Counter({0: 900, 1: 900})\n"
     ]
    }
   ],
   "source": [
    "\n",
    "#ref:http://contrib.scikit-learn.org/imbalanced-learn/stable/generated/imblearn.over_sampling.SMOTE.html\n",
    "from collections import Counter\n",
    "from sklearn.datasets import make_classification\n",
    "from imblearn.over_sampling import SMOTE\n",
    "\n",
    "X, y = make_classification(n_classes=2, class_sep=2,\n",
    "weights=[0.1, 0.9], n_informative=3, n_redundant=1, flip_y=0,\n",
    "n_features=20, n_clusters_per_class=1, n_samples=1000, random_state=10)\n",
    "\n",
    "print('Original dataset shape {}'.format(Counter(y)))\n",
    "#Original dataset shape Counter({1: 900, 0: 100})\n",
    "\n",
    "sm = SMOTE(random_state=42)\n",
    "X_res, y_res = sm.fit_sample(X, y)\n",
    "print('Resampled dataset shape {}'.format(Counter(y_res)))\n",
    "#Resampled dataset shape Counter({0: 900, 1: 900})"
   ]
  },
  {
   "cell_type": "markdown",
   "metadata": {},
   "source": [
    "\n",
    "We will try to use this resampled data to train our model,then we will use this model to predict for our original data"
   ]
  },
  {
   "cell_type": "code",
   "execution_count": 48,
   "metadata": {
    "collapsed": false
   },
   "outputs": [
    {
     "data": {
      "text/plain": [
       "1264"
      ]
     },
     "execution_count": 48,
     "metadata": {},
     "output_type": "execute_result"
    },
    {
     "data": {
      "text/plain": [
       "316"
      ]
     },
     "execution_count": 48,
     "metadata": {},
     "output_type": "execute_result"
    },
    {
     "data": {
      "text/plain": [
       "220"
      ]
     },
     "execution_count": 48,
     "metadata": {},
     "output_type": "execute_result"
    },
    {
     "data": {
      "text/plain": [
       "1264"
      ]
     },
     "execution_count": 48,
     "metadata": {},
     "output_type": "execute_result"
    },
    {
     "data": {
      "text/plain": [
       "316"
      ]
     },
     "execution_count": 48,
     "metadata": {},
     "output_type": "execute_result"
    },
    {
     "data": {
      "text/plain": [
       "220"
      ]
     },
     "execution_count": 48,
     "metadata": {},
     "output_type": "execute_result"
    }
   ],
   "source": [
    "X_train, X_val, X_test, y_train, y_val, y_test = train_val_test_split(X_res,y_res,test_size=0.12221,val_size=0.2)\n",
    "len(X_train)\n",
    "len(X_val)\n",
    "len(X_test)\n",
    "len(y_train)\n",
    "len(y_val)\n",
    "len(y_test)"
   ]
  },
  {
   "cell_type": "code",
   "execution_count": 66,
   "metadata": {
    "collapsed": true
   },
   "outputs": [],
   "source": [
    "def scores(confusion_matrix):\n",
    "    TP = confusion_matrix[0][0]\n",
    "    FP = confusion_matrix[0][1]\n",
    "    FN = confusion_matrix[1][0]\n",
    "    TN = confusion_matrix[1][1]\n",
    "    accuracy = float(TP+TN)/(TP+FP+FN+TN)\n",
    "    precision = float(TP)/(TP+FP)\n",
    "    recall = float(TP)/(TP+FN)\n",
    "    return accuracy\n",
    "    return accuracy\n",
    "    return recall"
   ]
  },
  {
   "cell_type": "code",
   "execution_count": 67,
   "metadata": {
    "collapsed": false
   },
   "outputs": [
    {
     "data": {
      "text/plain": [
       "array([[110,   0],\n",
       "       [  1, 109]], dtype=int64)"
      ]
     },
     "execution_count": 67,
     "metadata": {},
     "output_type": "execute_result"
    },
    {
     "name": "stdout",
     "output_type": "stream",
     "text": [
      "[[110   0]\n",
      " [  1 109]]\n"
     ]
    }
   ],
   "source": [
    "from sklearn.naive_bayes import GaussianNB\n",
    "gnb = GaussianNB()\n",
    "bayes_model=gnb.fit(X_train,y_train)\n",
    "y_pred=  bayes_model.predict(X_test)\n",
    "from sklearn.metrics import confusion_matrix\n",
    "confusion_matrix_bayes\n",
    "print(confusion_matrix_bayes)"
   ]
  },
  {
   "cell_type": "code",
   "execution_count": 64,
   "metadata": {
    "collapsed": false
   },
   "outputs": [],
   "source": []
  },
  {
   "cell_type": "code",
   "execution_count": 68,
   "metadata": {
    "collapsed": false
   },
   "outputs": [
    {
     "name": "stdout",
     "output_type": "stream",
     "text": [
      "[[110   0]\n",
      " [  1 109]]\n"
     ]
    },
    {
     "data": {
      "text/plain": [
       "0.9954545454545455"
      ]
     },
     "execution_count": 68,
     "metadata": {},
     "output_type": "execute_result"
    }
   ],
   "source": [
    "from sklearn.ensemble import RandomForestClassifier\n",
    "rfc = RandomForestClassifier()\n",
    "rfc_model =rfc.fit(X_train, y_train)\n",
    "y_pred = rfc_model.predict(X_test)\n",
    "confusion_matrix_rfc=confusion_matrix(y_test, y_pred)\n",
    "print(confusion_matrix_rfc)\n",
    "scores(confusion_matrix_rfc)"
   ]
  },
  {
   "cell_type": "code",
   "execution_count": null,
   "metadata": {
    "collapsed": true
   },
   "outputs": [],
   "source": []
  },
  {
   "cell_type": "code",
   "execution_count": null,
   "metadata": {
    "collapsed": true
   },
   "outputs": [],
   "source": [
    "RandomForestClassifier()"
   ]
  }
 ],
 "metadata": {
  "kernelspec": {
   "display_name": "Python 2",
   "language": "python",
   "name": "python2"
  },
  "language_info": {
   "codemirror_mode": {
    "name": "ipython",
    "version": 2
   },
   "file_extension": ".py",
   "mimetype": "text/x-python",
   "name": "python",
   "nbconvert_exporter": "python",
   "pygments_lexer": "ipython2",
   "version": "2.7.11"
  }
 },
 "nbformat": 4,
 "nbformat_minor": 2
}
